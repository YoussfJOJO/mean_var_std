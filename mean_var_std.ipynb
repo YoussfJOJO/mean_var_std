{
 "cells": [
  {
   "cell_type": "code",
   "execution_count": 154,
   "id": "396fcb52-7f1d-4ee9-879d-00f17407faa4",
   "metadata": {},
   "outputs": [],
   "source": [
    "import numpy as np\n",
    "import pandas as pd"
   ]
  },
  {
   "cell_type": "code",
   "execution_count": 260,
   "id": "3fd3a668-3d15-48b5-b4c3-1df6a4f7e170",
   "metadata": {},
   "outputs": [],
   "source": [
    "def calculate(list):\n",
    "  try:\n",
    "    _ = list[8]\n",
    "    if len(list) == 9:\n",
    "      arr = np.array(list).reshape(3,3)\n",
    "      my_dict = {}\n",
    "      my_dict['mean'] = [np.mean(arr, axis=0)] , [np.mean(arr, axis=1)], [np.mean(list)]\n",
    "      my_dict['variance'] = [np.var(arr, axis=0)] , [np.var(arr, axis=1)], [np.var(list)]\n",
    "      my_dict['standard deviation'] = [np.std(arr, axis=0)] , [np.std(arr, axis=1)], [np.std(list)]\n",
    "      my_dict['max'] =[np.max(arr, axis=0)] , [np.max(arr, axis=1)], [np.max(list)]\n",
    "      my_dict['min'] = [np.min(arr, axis=0)] , [np.min(arr, axis=1)], [np.min(list)]\n",
    "      my_dict['sum'] = [np.sum(arr, axis=0)] , [np.sum(arr, axis=1)], [np.sum(list)]\n",
    "      print(my_dict)\n",
    "    else:\n",
    "      print(\"List must contain nine numbe\")\n",
    "  except IndexError:\n",
    "      print(\"List must contain nine numbers.\")\n",
    "\n"
   ]
  },
  {
   "cell_type": "code",
   "execution_count": 261,
   "id": "7e5109c5-b1e2-4d7a-99be-058cb96b10a2",
   "metadata": {},
   "outputs": [
    {
     "name": "stdout",
     "output_type": "stream",
     "text": [
      "{'mean': ([array([3., 4., 5.])], [array([1., 4., 7.])], [4.0]), 'variance': ([array([6., 6., 6.])], [array([0.66666667, 0.66666667, 0.66666667])], [6.666666666666667]), 'standard deviation': ([array([2.44948974, 2.44948974, 2.44948974])], [array([0.81649658, 0.81649658, 0.81649658])], [2.581988897471611]), 'max': ([array([6, 7, 8])], [array([2, 5, 8])], [8]), 'min': ([array([0, 1, 2])], [array([0, 3, 6])], [0]), 'sum': ([array([ 9, 12, 15])], [array([ 3, 12, 21])], [36])}\n"
     ]
    }
   ],
   "source": [
    "calculate([0,1,2,3,4,5,6,7,8])"
   ]
  },
  {
   "cell_type": "code",
   "execution_count": null,
   "id": "ee250a41-4fce-4f3c-a26e-b62e8d8aa39d",
   "metadata": {},
   "outputs": [],
   "source": []
  },
  {
   "cell_type": "code",
   "execution_count": null,
   "id": "44d6e380-14b5-4b62-ae74-1375e8b977bf",
   "metadata": {},
   "outputs": [],
   "source": []
  }
 ],
 "metadata": {
  "kernelspec": {
   "display_name": "Python 3 (ipykernel)",
   "language": "python",
   "name": "python3"
  },
  "language_info": {
   "codemirror_mode": {
    "name": "ipython",
    "version": 3
   },
   "file_extension": ".py",
   "mimetype": "text/x-python",
   "name": "python",
   "nbconvert_exporter": "python",
   "pygments_lexer": "ipython3",
   "version": "3.11.9"
  }
 },
 "nbformat": 4,
 "nbformat_minor": 5
}
